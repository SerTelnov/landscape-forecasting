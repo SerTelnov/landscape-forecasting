{
 "cells": [
  {
   "cell_type": "code",
   "execution_count": 2,
   "metadata": {
    "pycharm": {
     "is_executing": false
    }
   },
   "outputs": [],
   "source": [
    "import matplotlib.pyplot as plot\n",
    "import numpy as np\n",
    "\n",
    "import python.dataset.stat_holder as stats\n",
    "import python.model_util as utils\n",
    "from python.dataset.data_reader import balance_read_n\n",
    "from python.common.losses import cross_entropy, loss1\n",
    "from python.util import ModelMode"
   ]
  },
  {
   "cell_type": "code",
   "execution_count": 3,
   "metadata": {
    "pycharm": {
     "is_executing": false
    }
   },
   "outputs": [],
   "source": [
    "def draw_table(names, results):\n",
    "    metric_names = list(results[0].keys())\n",
    "    data = []\n",
    "\n",
    "    for metric in metric_names:\n",
    "        x = []\n",
    "        for result in results:\n",
    "            x.append(result[metric])\n",
    "        data.append(x)\n",
    "\n",
    "    table = plot.table(\n",
    "        cellText=data,\n",
    "        rowLabels=metric_names,\n",
    "        colLabels=names,\n",
    "        loc='center'\n",
    "    )\n",
    "\n",
    "    table.set_fontsize(16)\n",
    "    table.scale(2.5, 2.5)\n",
    "\n",
    "    plot.axis('off')\n",
    "    plot.grid(False)\n",
    "\n",
    "    plot.show()"
   ]
  },
  {
   "cell_type": "code",
   "execution_count": 4,
   "metadata": {
    "pycharm": {
     "is_executing": false
    }
   },
   "outputs": [],
   "source": [
    "_STEPS = 1000\n",
    "samples = balance_read_n(_STEPS, '../data', '3476')\n",
    "\n",
    "def calc_metrics(model):\n",
    "    steps = _STEPS\n",
    "\n",
    "    cross = []\n",
    "    win_cross = []\n",
    "    loss_cross = []\n",
    "    y_pred = []\n",
    "    y_true = []\n",
    "    anlp = []\n",
    "\n",
    "    for i in range(steps):\n",
    "        if i > 0 and i % 100 == 0:\n",
    "            print(\"Iter number %d/%d\" % (i, steps))\n",
    "\n",
    "        features, bids, targets, win = samples[i]\n",
    "        survival_rate, rate_last = model.predict_on_batch([features, bids])\n",
    "        cross_entropy_value = cross_entropy(targets, survival_rate)\n",
    "\n",
    "        cross.append(cross_entropy_value)\n",
    "        if win:\n",
    "            anlp.append(loss1(targets, rate_last))\n",
    "            win_cross.append(cross_entropy_value)\n",
    "        else:\n",
    "            loss_cross.append(cross_entropy_value)\n",
    "\n",
    "        y_pred.append(survival_rate)\n",
    "        y_true.append(targets)\n",
    "\n",
    "    print(\"Iter number %d/%d\\n\" % (steps, steps))\n",
    "\n",
    "    cross_mean = np.array(cross).mean()\n",
    "    win_cross_mean = np.array(win_cross).mean()\n",
    "    loss_cross_mean = np.array(loss_cross).mean()\n",
    "    anlp_mean = np.array(anlp).mean()\n",
    "    roc_auc_value = stats.StatHolder.calc_roc_auc_score(y_true, y_pred)\n",
    "\n",
    "    return {'cross_entropy_win': win_cross_mean, 'cross_entropy_loss': loss_cross_mean,\n",
    "            'cross_entropy': cross_mean, 'roc_auc': roc_auc_value, 'anlp': anlp_mean}"
   ]
  },
  {
   "cell_type": "code",
   "execution_count": 5,
   "metadata": {
    "pycharm": {
     "is_executing": false
    }
   },
   "outputs": [],
   "source": [
    "dlf = utils.make_model(ModelMode.DLF, 'dlf_3476_all__0.25_0.75_0.0001_20200513_0822')\n",
    "tlf = utils.make_model(ModelMode.TRANSFORMER, 'tlf_3476_all__0.25_0.75_0.0001_20200517_1458')"
   ]
  },
  {
   "cell_type": "code",
   "execution_count": 6,
   "metadata": {
    "pycharm": {
     "is_executing": false,
     "name": "#%%\n"
    }
   },
   "outputs": [
    {
     "name": "stdout",
     "text": [
      "Iter number 100/1000\n",
      "Iter number 200/1000\n",
      "Iter number 300/1000\n",
      "Iter number 400/1000\n",
      "Iter number 500/1000\n",
      "Iter number 600/1000\n",
      "Iter number 700/1000\n",
      "Iter number 800/1000\n",
      "Iter number 900/1000\n",
      "Iter number 1000/1000\n",
      "\n",
      "Iter number 100/1000\n",
      "Iter number 200/1000\n",
      "Iter number 300/1000\n",
      "Iter number 400/1000\n",
      "Iter number 500/1000\n",
      "Iter number 600/1000\n",
      "Iter number 700/1000\n",
      "Iter number 800/1000\n",
      "Iter number 900/1000\n",
      "Iter number 1000/1000\n",
      "\n"
     ],
     "output_type": "stream"
    }
   ],
   "source": [
    "dlf_result = calc_metrics(dlf)\n",
    "tlf_result = calc_metrics(tlf)"
   ]
  },
  {
   "cell_type": "code",
   "execution_count": 7,
   "metadata": {
    "pycharm": {
     "is_executing": false,
     "name": "#%%\n"
    }
   },
   "outputs": [
    {
     "traceback": [
      "\u001b[0;31m---------------------------------------------------------------------------\u001b[0m",
      "\u001b[0;31mAttributeError\u001b[0m                            Traceback (most recent call last)",
      "\u001b[0;32m<ipython-input-7-920ecc120e2c>\u001b[0m in \u001b[0;36m<module>\u001b[0;34m\u001b[0m\n\u001b[0;32m----> 1\u001b[0;31m \u001b[0mdraw_table\u001b[0m\u001b[0;34m(\u001b[0m\u001b[0;34m[\u001b[0m\u001b[0;34m'dlf'\u001b[0m\u001b[0;34m,\u001b[0m \u001b[0;34m'tlf'\u001b[0m\u001b[0;34m]\u001b[0m\u001b[0;34m,\u001b[0m \u001b[0;34m[\u001b[0m\u001b[0mdlf\u001b[0m\u001b[0;34m,\u001b[0m \u001b[0mtlf\u001b[0m\u001b[0;34m]\u001b[0m\u001b[0;34m)\u001b[0m\u001b[0;34m\u001b[0m\u001b[0;34m\u001b[0m\u001b[0m\n\u001b[0m",
      "\u001b[0;32m<ipython-input-3-6de8c03d659f>\u001b[0m in \u001b[0;36mdraw_table\u001b[0;34m(names, results)\u001b[0m\n\u001b[1;32m      1\u001b[0m \u001b[0;32mdef\u001b[0m \u001b[0mdraw_table\u001b[0m\u001b[0;34m(\u001b[0m\u001b[0mnames\u001b[0m\u001b[0;34m,\u001b[0m \u001b[0mresults\u001b[0m\u001b[0;34m)\u001b[0m\u001b[0;34m:\u001b[0m\u001b[0;34m\u001b[0m\u001b[0;34m\u001b[0m\u001b[0m\n\u001b[0;32m----> 2\u001b[0;31m     \u001b[0mmetric_names\u001b[0m \u001b[0;34m=\u001b[0m \u001b[0mlist\u001b[0m\u001b[0;34m(\u001b[0m\u001b[0mresults\u001b[0m\u001b[0;34m[\u001b[0m\u001b[0;36m0\u001b[0m\u001b[0;34m]\u001b[0m\u001b[0;34m.\u001b[0m\u001b[0mkeys\u001b[0m\u001b[0;34m(\u001b[0m\u001b[0;34m)\u001b[0m\u001b[0;34m)\u001b[0m\u001b[0;34m\u001b[0m\u001b[0;34m\u001b[0m\u001b[0m\n\u001b[0m\u001b[1;32m      3\u001b[0m     \u001b[0mdata\u001b[0m \u001b[0;34m=\u001b[0m \u001b[0;34m[\u001b[0m\u001b[0;34m]\u001b[0m\u001b[0;34m\u001b[0m\u001b[0;34m\u001b[0m\u001b[0m\n\u001b[1;32m      4\u001b[0m \u001b[0;34m\u001b[0m\u001b[0m\n\u001b[1;32m      5\u001b[0m     \u001b[0;32mfor\u001b[0m \u001b[0mmetric\u001b[0m \u001b[0;32min\u001b[0m \u001b[0mmetric_names\u001b[0m\u001b[0;34m:\u001b[0m\u001b[0;34m\u001b[0m\u001b[0;34m\u001b[0m\u001b[0m\n",
      "\u001b[0;31mAttributeError\u001b[0m: 'DLF' object has no attribute 'keys'"
     ],
     "ename": "AttributeError",
     "evalue": "'DLF' object has no attribute 'keys'",
     "output_type": "error"
    }
   ],
   "source": [
    "draw_table(['dlf', 'tlf'], [dlf, tlf])"
   ]
  }
 ],
 "metadata": {
  "kernelspec": {
   "name": "pycharm-3e157055",
   "language": "python",
   "display_name": "PyCharm (landscape-forecasting)"
  },
  "language_info": {
   "codemirror_mode": {
    "name": "ipython",
    "version": 3
   },
   "file_extension": ".py",
   "mimetype": "text/x-python",
   "name": "python",
   "nbconvert_exporter": "python",
   "pygments_lexer": "ipython3",
   "version": "3.7.4"
  },
  "pycharm": {
   "stem_cell": {
    "cell_type": "raw",
    "source": [],
    "metadata": {
     "collapsed": false
    }
   }
  }
 },
 "nbformat": 4,
 "nbformat_minor": 2
}
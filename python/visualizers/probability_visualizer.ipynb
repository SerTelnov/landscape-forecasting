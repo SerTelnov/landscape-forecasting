{
 "cells": [
  {
   "cell_type": "code",
   "execution_count": 3,
   "metadata": {
    "pycharm": {
     "is_executing": false
    }
   },
   "outputs": [
    {
     "ename": "ModuleNotFoundError",
     "evalue": "No module named 'python'",
     "output_type": "error",
     "traceback": [
      "\u001b[0;31m---------------------------------------------------------------------------\u001b[0m",
      "\u001b[0;31mModuleNotFoundError\u001b[0m                       Traceback (most recent call last)",
      "\u001b[0;32m<ipython-input-3-61864c97f1a7>\u001b[0m in \u001b[0;36m<module>\u001b[0;34m\u001b[0m\n\u001b[1;32m      2\u001b[0m \u001b[0;32mimport\u001b[0m \u001b[0mnumpy\u001b[0m \u001b[0;32mas\u001b[0m \u001b[0mnp\u001b[0m\u001b[0;34m\u001b[0m\u001b[0;34m\u001b[0m\u001b[0m\n\u001b[1;32m      3\u001b[0m \u001b[0;34m\u001b[0m\u001b[0m\n\u001b[0;32m----> 4\u001b[0;31m \u001b[0;32mfrom\u001b[0m \u001b[0mpython\u001b[0m\u001b[0;34m.\u001b[0m\u001b[0mdataset\u001b[0m\u001b[0;34m.\u001b[0m\u001b[0mdata_reader\u001b[0m \u001b[0;32mimport\u001b[0m \u001b[0mread_first\u001b[0m\u001b[0;34m\u001b[0m\u001b[0;34m\u001b[0m\u001b[0m\n\u001b[0m\u001b[1;32m      5\u001b[0m \u001b[0;32mfrom\u001b[0m \u001b[0mpython\u001b[0m\u001b[0;34m.\u001b[0m\u001b[0mutil\u001b[0m \u001b[0;32mimport\u001b[0m \u001b[0mModelMode\u001b[0m\u001b[0;34m,\u001b[0m \u001b[0mDataMode\u001b[0m\u001b[0;34m\u001b[0m\u001b[0;34m\u001b[0m\u001b[0m\n\u001b[1;32m      6\u001b[0m \u001b[0;32mfrom\u001b[0m \u001b[0mpython\u001b[0m\u001b[0;34m.\u001b[0m\u001b[0mkm\u001b[0m\u001b[0;34m.\u001b[0m\u001b[0mkm\u001b[0m \u001b[0;32mimport\u001b[0m \u001b[0mKM\u001b[0m\u001b[0;34m\u001b[0m\u001b[0;34m\u001b[0m\u001b[0m\n",
      "\u001b[0;31mModuleNotFoundError\u001b[0m: No module named 'python'"
     ]
    }
   ],
   "source": [
    "import matplotlib.pyplot as plt\n",
    "import numpy as np\n",
    "\n",
    "from python.dataset.data_reader import read_first\n",
    "from python.util import ModelMode, DataMode\n",
    "from python.km.km import KM\n",
    "import python.model_util as utils"
   ]
  },
  {
   "cell_type": "code",
   "execution_count": null,
   "metadata": {
    "pycharm": {
     "is_executing": false
    }
   },
   "outputs": [],
   "source": [
    "def get_probabilities(h, bid_range):\n",
    "    distribution = []\n",
    "    W = []\n",
    "\n",
    "    prefix = 1\n",
    "    for i in bid_range:\n",
    "        prob = (1 - h[i]) * prefix\n",
    "        distribution.append(prob)\n",
    "\n",
    "        prefix = prefix * h[i]\n",
    "        W.append(1 - prefix)\n",
    "\n",
    "    return {'Плотность распределения': distribution, 'Вероятность выигрыша': W}"
   ]
  },
  {
   "cell_type": "code",
   "execution_count": null,
   "metadata": {
    "pycharm": {
     "is_executing": false
    }
   },
   "outputs": [],
   "source": [
    "def draw_plot(probability_dict, bid_range, z, b):\n",
    "    fig, ax = plt.subplots(1, len(probability_dict))\n",
    "    fig.set_figheight(6)\n",
    "    fig.set_figwidth(10)\n",
    "\n",
    "    i = 0\n",
    "    for name, values in probability_dict.items():\n",
    "        ax[i].set_title('[z=%d, b=%d]' % (z, b))\n",
    "        ax[i].plot(bid_range, values, label='probability')\n",
    "        if z != 0 and z < b:\n",
    "            ax[i].vlines(z, min(values), max(values), label='Рыночная цена', color='red')\n",
    "        ax[i].vlines(b, min(values), max(values), label='Ставка аукциона', color='black', linestyle='--')\n",
    "        ax[i].set_xlabel('Ставка')\n",
    "        ax[i].set_ylabel('Вероятность')\n",
    "        ax[i].legend()\n",
    "\n",
    "        i += 1\n",
    "    plt.show()\n",
    "\n",
    "def draw_multiple_plot(probability_dicts, names, bid_range, z, b):\n",
    "    fig, ax = plt.subplots(len(probability_dicts[0]), len(probability_dicts))\n",
    "    fig.set_figheight(6)\n",
    "    fig.set_figwidth(10)\n",
    "\n",
    "    for j in range(len(probability_dicts)):\n",
    "        model_name = names[j]\n",
    "        i = 0\n",
    "        for name, values in probability_dicts[j].items():\n",
    "            ax[i][j].set_title('%s [z=%d, b=%d]' % (model_name, z, b))\n",
    "            ax[i][j].plot(bid_range, values, label='probability')\n",
    "            if z != 0:\n",
    "                ax[i][j].vlines(z, min(values), max(values), label='market price', color='red')\n",
    "            ax[i].vlines(b, min(values), max(values), label='bid', color='black', linestyle='--')\n",
    "            ax[i][j].set_xlabel('bids')\n",
    "            ax[i][j].set_ylabel(name)\n",
    "            ax[i][j].legend()\n",
    "\n",
    "            i += 1\n",
    "    plt.show()\n",
    "\n",
    "def draw_single_plot(probability_dicts, model_names, bid_range, z, b):\n",
    "    keys = probability_dicts[0].keys()\n",
    "\n",
    "    fig, ax = plt.subplots(1, len(keys))\n",
    "    fig.set_figheight(6)\n",
    "    fig.set_figwidth(10)\n",
    "\n",
    "    for i, name in enumerate(keys):\n",
    "        max_value = 0\n",
    "        for j in range(len(probability_dicts)):\n",
    "            values = probability_dicts[j][name]\n",
    "            model_name = model_names[j]\n",
    "            ax[i].plot(bid_range, values, label=model_name)\n",
    "            max_value = max(max_value, max(values))\n",
    "\n",
    "        max_value = min(1, max_value + 0.05)\n",
    "        # ax[i].set_title('%s [z=%d, b=%d]' % (name, z, b))\n",
    "        ax[i].set_title(name)\n",
    "        if z != 0 and z < b:\n",
    "            ax[i].vlines(z, 0, max_value, label='Рыночная цена', color='red')\n",
    "        ax[i].vlines(b, 0, max_value, label='Ставка аукциона', color='black', linestyle='--')\n",
    "        ax[i].set_xlabel('Ставки')\n",
    "        ax[i].set_ylabel('Вероятность')\n",
    "        ax[i].legend()\n",
    "    plt.show()"
   ]
  },
  {
   "cell_type": "code",
   "execution_count": null,
   "metadata": {
    "pycharm": {
     "is_executing": false
    }
   },
   "outputs": [],
   "source": [
    "path = '../data'\n",
    "campaign = '3476'\n",
    "\n",
    "# dlf_0503 = utils.make_model(ModelMode.DLF, 'dlf_3476_all__0.25_0.75_0.0001_20200503_1108', training_mode=False)\n",
    "# dlf_0513 = utils.make_model(ModelMode.DLF, 'dlf_3476_all__0.25_0.75_0.0001_20200513_0822', training_mode=False)\n",
    "# dlf_attention = utils.make_model(ModelMode.DLF_ATTENTION, 'dlf_attention_3476_all__0.25_0.75_0.0001_20200512_1719', training_mode=False)\n",
    "# dlf_vk1 = utils.make_model(ModelMode.DLF, 'dlf_vk1_all__0.25_0.75_0.0001_20200522_0106', training_mode=False)\n",
    "dlf = utils.make_model(ModelMode.DLF, 'dlf_3476_all__0.25_0.75_0.0001_20200513_0822', training_mode=False)\n",
    "tlf = utils.make_model(ModelMode.TRANSFORMER, 'tlf_3476_all__0.25_0.75_0.0001_20200518_1059', training_mode=False)\n",
    "km = KM()\n",
    "km.fit_campaign(campaign)"
   ]
  },
  {
   "cell_type": "code",
   "execution_count": null,
   "metadata": {
    "pycharm": {
     "is_executing": false
    }
   },
   "outputs": [],
   "source": [
    "def predict_and_draw(batch):\n",
    "    # dlf_h_1 = dlf_0503.predict_on_batch(batch).numpy()\n",
    "    # dlf_h_2 = dlf_0513.predict_on_batch(batch).numpy()\n",
    "    # dlf_attention_h = dlf_attention.predict_on_batch(batch).numpy()\n",
    "    # h_vk1 = dlf_vk1.predict_on_batch(batch).numpy()\n",
    "    dlf_h = dlf.predict_on_batch(batch).numpy()\n",
    "    tlf_h = tlf.predict_on_batch(batch).numpy()\n",
    "\n",
    "    bid_range = np.arange(0, 309)\n",
    "    for i in range(0, len(bids), 10):\n",
    "        z, b = bids[i]\n",
    "\n",
    "        tlf_prob_dict = get_probabilities(tlf_h[i], bid_range)\n",
    "        dlf_prob_dict = get_probabilities(dlf_h[i], bid_range)\n",
    "        km_prob_dict = km.get_distribution(bid_range)\n",
    "        # dlf_attention_prod_dict = get_probabilities(dlf_attention_h[i], bid_range)\n",
    "        draw_single_plot([tlf_prob_dict, dlf_prob_dict, km_prob_dict], ['Трансформер', 'DLF', 'KM'], bid_range, z, b)\n",
    "        # dlf_prob_dict = get_probabilities(h_vk1[i], bid_range)\n",
    "        # draw_plot(dlf_prob_dict, bid_range, z, b)"
   ]
  },
  {
   "cell_type": "code",
   "execution_count": null,
   "metadata": {
    "pycharm": {
     "is_executing": false
    }
   },
   "outputs": [],
   "source": [
    "# Winning cases\n",
    "features, bids, _, _ = read_first(path, campaign, DataMode.WIN_ONLY)\n",
    "predict_and_draw([features, bids])"
   ]
  },
  {
   "cell_type": "code",
   "execution_count": null,
   "metadata": {
    "pycharm": {
     "is_executing": false
    }
   },
   "outputs": [],
   "source": [
    "# Lossing cases\n",
    "features, bids, _, _ = read_first(path, campaign, DataMode.LOSS_ONLY)\n",
    "predict_and_draw([features, bids])"
   ]
  }
 ],
 "metadata": {
  "kernelspec": {
   "display_name": "PyCharm (landscape-forecasting)",
   "language": "python",
   "name": "pycharm-3e157055"
  },
  "language_info": {
   "codemirror_mode": {
    "name": "ipython",
    "version": 3
   },
   "file_extension": ".py",
   "mimetype": "text/x-python",
   "name": "python",
   "nbconvert_exporter": "python",
   "pygments_lexer": "ipython3",
   "version": "3.7.4"
  },
  "pycharm": {
   "stem_cell": {
    "cell_type": "raw",
    "metadata": {
     "collapsed": false
    },
    "source": []
   }
  }
 },
 "nbformat": 4,
 "nbformat_minor": 2
}

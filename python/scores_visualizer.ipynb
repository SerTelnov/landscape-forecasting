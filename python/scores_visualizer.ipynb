{
 "cells": [
  {
   "cell_type": "code",
   "execution_count": 37,
   "metadata": {
    "pycharm": {
     "is_executing": false
    }
   },
   "outputs": [],
   "source": [
    "import os\n",
    "\n",
    "import matplotlib.pyplot as plot\n",
    "import numpy as np\n",
    "import tensorflow as tf\n",
    "\n",
    "from python.dataset.data_reader import read_dataset\n",
    "from python.dlf.dlf import DLF\n",
    "from python.dlf.losses import cross_entropy\n",
    "from python.util import BATCH_SIZE, ModelMode"
   ]
  },
  {
   "cell_type": "code",
   "execution_count": 47,
   "metadata": {
    "pycharm": {
     "is_executing": false
    }
   },
   "outputs": [],
   "source": [
    "def draw_table(names, results, metric_names):\n",
    "    data = []\n",
    "\n",
    "    for metric in metric_names:\n",
    "        x = []\n",
    "        for result in results:\n",
    "            x.append(result[metric])\n",
    "        data.append(x)\n",
    "\n",
    "    table = plot.table(\n",
    "      cellText=data,\n",
    "      rowLabels=metric_names,\n",
    "      colLabels=names,\n",
    "      loc='center'\n",
    "    )\n",
    "\n",
    "    table.set_fontsize(16)\n",
    "    table.scale(2.5, 2.5)\n",
    "\n",
    "    plot.axis('off')\n",
    "    plot.grid(False)\n",
    "\n",
    "    plot.show()"
   ]
  },
  {
   "cell_type": "code",
   "execution_count": 39,
   "metadata": {
    "pycharm": {
     "is_executing": false
    }
   },
   "outputs": [],
   "source": [
    "def read_checkpoint(model_name):\n",
    "    checkpoint_path = '../output/checkpoint/aws/' + model_name + '/cp-{epoch:02d}.ckpt'\n",
    "    checkpoint_dir = os.path.dirname(checkpoint_path)\n",
    "    return tf.train.latest_checkpoint(checkpoint_dir)\n",
    "\n",
    "def build_model(model_mode, model_name):\n",
    "    model = DLF(model_mode)\n",
    "    model.build(input_shape=([BATCH_SIZE, 16], [BATCH_SIZE, 2]))\n",
    "\n",
    "    latest = read_checkpoint(model_name)\n",
    "    model.load_weights(latest)\n",
    "    return model"
   ]
  },
  {
   "cell_type": "code",
   "execution_count": 40,
   "metadata": {
    "pycharm": {
     "is_executing": false
    }
   },
   "outputs": [],
   "source": [
    "_STEPS = 110\n",
    "\n",
    "def cross_entropy_values(model, dataset, test_all_data=False):\n",
    "    epoch_steps = dataset.epoch_steps()\n",
    "    steps = epoch_steps if test_all_data else min(epoch_steps, _STEPS)\n",
    "\n",
    "    win_ce = []\n",
    "    loss_ce = []\n",
    "    for i in range(steps):\n",
    "        if i > 0 and i % 50 == 0:\n",
    "            print(\"Iter number %d/%d\" % (i, steps))\n",
    "\n",
    "        features, bids, targets, win = dataset.next()\n",
    "        survival_rate, rate_last = model.predict_on_batch([features, bids])\n",
    "        cross_entropy_value = cross_entropy(targets, survival_rate)\n",
    "\n",
    "        current_ce = win_ce if win else loss_ce\n",
    "        current_ce.append(cross_entropy_value)\n",
    "\n",
    "    print(\"Iter number %d/%d\" % (steps, steps))\n",
    "\n",
    "    win_ce_mean = np.array(win_ce).mean()\n",
    "    loss_ce_mean = np.array(loss_ce).mean()\n",
    "\n",
    "    return {'cross_entropy_win': win_ce_mean, 'cross_entropy_loss': loss_ce_mean}"
   ]
  },
  {
   "cell_type": "code",
   "execution_count": 41,
   "metadata": {
    "pycharm": {
     "is_executing": false
    }
   },
   "outputs": [
    {
     "name": "stdout",
     "output_type": "stream",
     "text": [
      "data size  26944 \n",
      "\n",
      "data size  129119 \n",
      "\n"
     ]
    }
   ],
   "source": [
    "dataset = read_dataset('../data', '2997', is_train=False)"
   ]
  },
  {
   "cell_type": "code",
   "execution_count": 42,
   "metadata": {
    "pycharm": {
     "is_executing": false
    }
   },
   "outputs": [],
   "source": [
    "dlf = build_model(ModelMode.DLF, 'dlf_2997_all__0.25_0.75_0.0001_20200502_1437')\n",
    "dlf_attention = build_model(ModelMode.DLF_ATTENTION, 'dlf_attention_2997_all__0.25_0.75_0.0001_20200502_1753')"
   ]
  },
  {
   "cell_type": "code",
   "execution_count": 43,
   "metadata": {
    "pycharm": {
     "is_executing": false,
     "name": "#%%\n"
    }
   },
   "outputs": [
    {
     "name": "stdout",
     "output_type": "stream",
     "text": [
      "Iter number 50/110\n",
      "Iter number 100/110\n",
      "Iter number 110/110\n",
      "Iter number 50/110\n",
      "Iter number 100/110\n",
      "Iter number 110/110\n"
     ]
    }
   ],
   "source": [
    "dlf_result = cross_entropy_values(dlf, dataset)\n",
    "dlf_attention_result = cross_entropy_values(dlf_attention, dataset)"
   ]
  },
  {
   "cell_type": "code",
   "execution_count": 48,
   "metadata": {
    "pycharm": {
     "is_executing": false,
     "name": "#%%\n"
    }
   },
   "outputs": [
    {
     "data": {
      "text/plain": "<Figure size 432x288 with 1 Axes>",
      "image/png": "[encoded data removed]"
     },
     "metadata": {
      "needs_background": "light"
     },
     "output_type": "display_data"
    }
   ],
   "source": [
    "draw_table(['dlf', 'attention'], [dlf_result, dlf_attention_result], ['cross_entropy_win', 'cross_entropy_loss'])"
   ]
  }
 ],
 "metadata": {
  "kernelspec": {
   "display_name": "Python 3",
   "language": "python",
   "name": "python3"
  },
  "language_info": {
   "codemirror_mode": {
    "name": "ipython",
    "version": 3
   },
   "file_extension": ".py",
   "mimetype": "text/x-python",
   "name": "python",
   "nbconvert_exporter": "python",
   "pygments_lexer": "ipython3",
   "version": "3.7.4"
  },
  "pycharm": {
   "stem_cell": {
    "cell_type": "raw",
    "source": [],
    "metadata": {
     "collapsed": false
    }
   }
  }
 },
 "nbformat": 4,
 "nbformat_minor": 2
}